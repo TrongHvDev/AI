{
  "nbformat": 4,
  "nbformat_minor": 0,
  "metadata": {
    "colab": {
      "provenance": [],
      "authorship_tag": "ABX9TyMlRihO9rMU+zf57yA2vHpr",
      "include_colab_link": true
    },
    "kernelspec": {
      "name": "python3",
      "display_name": "Python 3"
    },
    "language_info": {
      "name": "python"
    }
  },
  "cells": [
    {
      "cell_type": "markdown",
      "metadata": {
        "id": "view-in-github",
        "colab_type": "text"
      },
      "source": [
        "<a href=\"https://colab.research.google.com/github/TrongHvDev/AI/blob/main/Homework_week9/cifa10.ipynb\" target=\"_parent\"><img src=\"https://colab.research.google.com/assets/colab-badge.svg\" alt=\"Open In Colab\"/></a>"
      ]
    },
    {
      "cell_type": "code",
      "execution_count": 1,
      "metadata": {
        "id": "kDjGrN-EZsXP"
      },
      "outputs": [],
      "source": [
        "import tensorflow as tf\n",
        "from tensorflow import keras\n",
        "from keras.datasets import cifar10\n",
        "from keras.models import Sequential\n",
        "from keras.layers import Dense, Flatten"
      ]
    },
    {
      "cell_type": "code",
      "source": [
        "(x_train, y_train), (x_test, y_test) = cifar10.load_data()\n"
      ],
      "metadata": {
        "colab": {
          "base_uri": "https://localhost:8080/"
        },
        "id": "_AltugGzZ4Ir",
        "outputId": "e574952d-4d3d-4bf2-f475-a8395dd3ded0"
      },
      "execution_count": 2,
      "outputs": [
        {
          "output_type": "stream",
          "name": "stdout",
          "text": [
            "Downloading data from https://www.cs.toronto.edu/~kriz/cifar-10-python.tar.gz\n",
            "170498071/170498071 [==============================] - 4s 0us/step\n"
          ]
        }
      ]
    },
    {
      "cell_type": "code",
      "source": [
        "x_train = x_train / 255.0\n",
        "x_test = x_test / 255.0\n"
      ],
      "metadata": {
        "id": "yMaIdoL4Z5L-"
      },
      "execution_count": 3,
      "outputs": []
    },
    {
      "cell_type": "code",
      "source": [
        "y_train = keras.utils.to_categorical(y_train, 10)\n",
        "y_test = keras.utils.to_categorical(y_test, 10)\n"
      ],
      "metadata": {
        "id": "mk4nVGtqZ6Ay"
      },
      "execution_count": 4,
      "outputs": []
    },
    {
      "cell_type": "code",
      "source": [
        "x_train = x_train.reshape(x_train.shape[0], 32 * 32 * 3)\n",
        "x_test = x_test.reshape(x_test.shape[0], 32 * 32 * 3)\n"
      ],
      "metadata": {
        "id": "FwSprPL4Z7fx"
      },
      "execution_count": 5,
      "outputs": []
    },
    {
      "cell_type": "code",
      "source": [
        "model = Sequential()\n",
        "model.add(Dense(512, activation='relu', input_shape=(32 * 32 * 3,)))\n",
        "model.add(Dense(256, activation='relu'))\n",
        "model.add(Dense(128, activation='relu'))\n",
        "model.add(Dense(10, activation='softmax'))\n"
      ],
      "metadata": {
        "id": "WrXEhEcyZ8d7"
      },
      "execution_count": 6,
      "outputs": []
    },
    {
      "cell_type": "code",
      "source": [
        "model.compile(optimizer='adam', loss='categorical_crossentropy', metrics=['accuracy'])\n"
      ],
      "metadata": {
        "id": "50qsfqjYZ9ru"
      },
      "execution_count": 7,
      "outputs": []
    },
    {
      "cell_type": "code",
      "source": [
        "model.fit(x_train, y_train, epochs=10, validation_data=(x_test, y_test))\n"
      ],
      "metadata": {
        "colab": {
          "base_uri": "https://localhost:8080/"
        },
        "id": "skjfGmEuZ-wT",
        "outputId": "b1c0ceb5-9e4c-421a-d305-e4e899aa530f"
      },
      "execution_count": 8,
      "outputs": [
        {
          "output_type": "stream",
          "name": "stdout",
          "text": [
            "Epoch 1/10\n",
            "1563/1563 [==============================] - 40s 23ms/step - loss: 1.8627 - accuracy: 0.3237 - val_loss: 1.6908 - val_accuracy: 0.4022\n",
            "Epoch 2/10\n",
            "1563/1563 [==============================] - 32s 20ms/step - loss: 1.6763 - accuracy: 0.3972 - val_loss: 1.6689 - val_accuracy: 0.4162\n",
            "Epoch 3/10\n",
            "1563/1563 [==============================] - 34s 22ms/step - loss: 1.5884 - accuracy: 0.4294 - val_loss: 1.6259 - val_accuracy: 0.4143\n",
            "Epoch 4/10\n",
            "1563/1563 [==============================] - 32s 20ms/step - loss: 1.5420 - accuracy: 0.4462 - val_loss: 1.5588 - val_accuracy: 0.4352\n",
            "Epoch 5/10\n",
            "1563/1563 [==============================] - 33s 21ms/step - loss: 1.5050 - accuracy: 0.4589 - val_loss: 1.4872 - val_accuracy: 0.4714\n",
            "Epoch 6/10\n",
            "1563/1563 [==============================] - 32s 20ms/step - loss: 1.4715 - accuracy: 0.4737 - val_loss: 1.5106 - val_accuracy: 0.4608\n",
            "Epoch 7/10\n",
            "1563/1563 [==============================] - 33s 21ms/step - loss: 1.4433 - accuracy: 0.4795 - val_loss: 1.4643 - val_accuracy: 0.4831\n",
            "Epoch 8/10\n",
            "1563/1563 [==============================] - 33s 21ms/step - loss: 1.4160 - accuracy: 0.4904 - val_loss: 1.4651 - val_accuracy: 0.4728\n",
            "Epoch 9/10\n",
            "1563/1563 [==============================] - 33s 21ms/step - loss: 1.3946 - accuracy: 0.5009 - val_loss: 1.4462 - val_accuracy: 0.4880\n",
            "Epoch 10/10\n",
            "1563/1563 [==============================] - 33s 21ms/step - loss: 1.3729 - accuracy: 0.5069 - val_loss: 1.4741 - val_accuracy: 0.4745\n"
          ]
        },
        {
          "output_type": "execute_result",
          "data": {
            "text/plain": [
              "<keras.callbacks.History at 0x7f5a11176fd0>"
            ]
          },
          "metadata": {},
          "execution_count": 8
        }
      ]
    },
    {
      "cell_type": "code",
      "source": [],
      "metadata": {
        "id": "Gn8P6LeNZ_oF"
      },
      "execution_count": null,
      "outputs": []
    }
  ]
}