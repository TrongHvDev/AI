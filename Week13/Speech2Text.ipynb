{
  "nbformat": 4,
  "nbformat_minor": 0,
  "metadata": {
    "colab": {
      "provenance": [],
      "mount_file_id": "1Aorju2EeRv6fcpwttxkgdKE-igcbhp9v",
      "authorship_tag": "ABX9TyMN3IhWr2UpulzSn8f5tt6n",
      "include_colab_link": true
    },
    "kernelspec": {
      "name": "python3",
      "display_name": "Python 3"
    },
    "language_info": {
      "name": "python"
    }
  },
  "cells": [
    {
      "cell_type": "markdown",
      "metadata": {
        "id": "view-in-github",
        "colab_type": "text"
      },
      "source": [
        "<a href=\"https://colab.research.google.com/github/TrongHvDev/AI/blob/main/Week13/Speech2Text.ipynb\" target=\"_parent\"><img src=\"https://colab.research.google.com/assets/colab-badge.svg\" alt=\"Open In Colab\"/></a>"
      ]
    },
    {
      "cell_type": "code",
      "execution_count": 3,
      "metadata": {
        "colab": {
          "base_uri": "https://localhost:8080/"
        },
        "id": "1FgKRdZZCRrN",
        "outputId": "0b3c7675-f519-4d9c-e3e1-d62ebf9c2934"
      },
      "outputs": [
        {
          "output_type": "stream",
          "name": "stdout",
          "text": [
            "Looking in indexes: https://pypi.org/simple, https://us-python.pkg.dev/colab-wheels/public/simple/\n",
            "Collecting SpeechRecognition\n",
            "  Downloading SpeechRecognition-3.10.0-py2.py3-none-any.whl (32.8 MB)\n",
            "\u001b[2K     \u001b[90m━━━━━━━━━━━━━━━━━━━━━━━━━━━━━━━━━━━━━━━━\u001b[0m \u001b[32m32.8/32.8 MB\u001b[0m \u001b[31m39.8 MB/s\u001b[0m eta \u001b[36m0:00:00\u001b[0m\n",
            "\u001b[?25hRequirement already satisfied: requests>=2.26.0 in /usr/local/lib/python3.9/dist-packages (from SpeechRecognition) (2.27.1)\n",
            "Requirement already satisfied: certifi>=2017.4.17 in /usr/local/lib/python3.9/dist-packages (from requests>=2.26.0->SpeechRecognition) (2022.12.7)\n",
            "Requirement already satisfied: urllib3<1.27,>=1.21.1 in /usr/local/lib/python3.9/dist-packages (from requests>=2.26.0->SpeechRecognition) (1.26.15)\n",
            "Requirement already satisfied: idna<4,>=2.5 in /usr/local/lib/python3.9/dist-packages (from requests>=2.26.0->SpeechRecognition) (3.4)\n",
            "Requirement already satisfied: charset-normalizer~=2.0.0 in /usr/local/lib/python3.9/dist-packages (from requests>=2.26.0->SpeechRecognition) (2.0.12)\n",
            "Installing collected packages: SpeechRecognition\n",
            "Successfully installed SpeechRecognition-3.10.0\n"
          ]
        }
      ],
      "source": [
        "pip install SpeechRecognition"
      ]
    },
    {
      "cell_type": "code",
      "source": [
        "import speech_recognition as sr\n",
        "\n",
        "file = 'Part 4 Day 5.wav'\n",
        "r = sr.Recognizer()\n",
        "\n",
        "with sr.AudioFile(file) as source:\n",
        "    audio_data = r.record(source)\n",
        "    text = r.recognize_google(audio_data)\n",
        "    print(text)\n"
      ],
      "metadata": {
        "colab": {
          "base_uri": "https://localhost:8080/"
        },
        "id": "Z96sTcf1CjUT",
        "outputId": "1af6726c-71a4-4d40-9182-e9181d41b8d7"
      },
      "execution_count": 18,
      "outputs": [
        {
          "output_type": "stream",
          "name": "stdout",
          "text": [
            "questions 80 through 82 refer to the following telephone message good morning news show this is Mustafa from healthful Pharmacy I'm calling to let you know that your prescription is ready and can be picked up today one thing to be aware of though we will be short-staffed from 425 do to employee training unfortunately we aren't able to hold this training any other time anyway when you do come in please remember to bring some kind of photo identification we require that of all our customers thanks\n"
          ]
        }
      ]
    },
    {
      "cell_type": "code",
      "source": [
        "import speech_recognition as sr\n",
        "\n",
        "file = 'Part 4 Day 5.wav'\n",
        "r = sr.Recognizer()\n",
        "\n",
        "with sr.AudioFile(file) as source:\n",
        "  audio1 = r.record(source, duration=15)\n",
        "  audio2 = r.record(source, duration=20)\n",
        "  print(r.recognize_google(audio1))\n",
        "  print(r.recognize_google(audio2))"
      ],
      "metadata": {
        "colab": {
          "base_uri": "https://localhost:8080/"
        },
        "id": "EbxPqUE0DXFZ",
        "outputId": "edb8c6e1-b092-4625-9dad-acf83c8101ef"
      },
      "execution_count": 23,
      "outputs": [
        {
          "output_type": "stream",
          "name": "stdout",
          "text": [
            "questions 80 through 82 refer to the following telephone message good morning news show this is Mustafa from healthful Pharmacy I'm calling to let you\n",
            "that your prescription is ready and can be picked up today one thing to be aware of though we will be short-staffed from 425 due to employee training unfortunately we aren't able to hold this training any other time anyway when you do come in please remember to bring some kind of photo identification we require\n"
          ]
        }
      ]
    },
    {
      "cell_type": "markdown",
      "source": [
        "# Sử dụng các ngôn ngữ khác"
      ],
      "metadata": {
        "id": "GVUzzsyzGucK"
      }
    },
    {
      "cell_type": "code",
      "source": [
        "file = '/content/drive/MyDrive/AI/Music/TiengViet/SongGio.wav'\n",
        "import speech_recognition as sr\n",
        "r = sr.Recognizer()\n",
        "with sr.AudioFile(file) as source:\n",
        "  audio_data = r.record(source, duration = 30)\n",
        "  text = r.recognize_google(audio_data, language='vi-VN')\n",
        "  print(text)"
      ],
      "metadata": {
        "colab": {
          "base_uri": "https://localhost:8080/"
        },
        "id": "2N3AwGz_FDC7",
        "outputId": "e7c63b3c-7a70-46ca-9ab7-1498364fc2bc"
      },
      "execution_count": 39,
      "outputs": [
        {
          "output_type": "stream",
          "name": "stdout",
          "text": [
            "công trình trên đôi cánh tay hoa Đợi em trong phút giây từ ngày thơ ấy con ngủ mơ đến khi em thấy lòng người anh đâu có hay một người khi vô cánh bay từ người yêu hóa thành người dưng đến khi ta từng thương em bờ vai nhỏ rồi đôi mắt hóa bay đêm từ sau buổi sáng lý thương vừa vẫn mãi bên thềm\n"
          ]
        }
      ]
    },
    {
      "cell_type": "code",
      "source": [],
      "metadata": {
        "id": "MybBtG9nHkuv"
      },
      "execution_count": null,
      "outputs": []
    }
  ]
}