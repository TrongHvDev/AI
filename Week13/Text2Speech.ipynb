{
  "nbformat": 4,
  "nbformat_minor": 0,
  "metadata": {
    "colab": {
      "provenance": [],
      "mount_file_id": "1wfqVTVtrC6GoSbCqe3IHII6pFSuExBXt",
      "authorship_tag": "ABX9TyPqZxEIG5VvZC1h7X9Eb/2A",
      "include_colab_link": true
    },
    "kernelspec": {
      "name": "python3",
      "display_name": "Python 3"
    },
    "language_info": {
      "name": "python"
    }
  },
  "cells": [
    {
      "cell_type": "markdown",
      "metadata": {
        "id": "view-in-github",
        "colab_type": "text"
      },
      "source": [
        "<a href=\"https://colab.research.google.com/github/TrongHvDev/AI/blob/main/Week13/Text2Speech.ipynb\" target=\"_parent\"><img src=\"https://colab.research.google.com/assets/colab-badge.svg\" alt=\"Open In Colab\"/></a>"
      ]
    },
    {
      "cell_type": "code",
      "execution_count": 1,
      "metadata": {
        "colab": {
          "base_uri": "https://localhost:8080/"
        },
        "id": "EUpmmd2MJ_Un",
        "outputId": "6582fbca-baf4-4f72-bf2c-9b855ad6bfe9"
      },
      "outputs": [
        {
          "output_type": "stream",
          "name": "stdout",
          "text": [
            "Looking in indexes: https://pypi.org/simple, https://us-python.pkg.dev/colab-wheels/public/simple/\n",
            "Collecting gTTS\n",
            "  Downloading gTTS-2.3.1-py3-none-any.whl (28 kB)\n",
            "Requirement already satisfied: requests<3,>=2.27 in /usr/local/lib/python3.9/dist-packages (from gTTS) (2.27.1)\n",
            "Requirement already satisfied: click<8.2,>=7.1 in /usr/local/lib/python3.9/dist-packages (from gTTS) (8.1.3)\n",
            "Requirement already satisfied: charset-normalizer~=2.0.0 in /usr/local/lib/python3.9/dist-packages (from requests<3,>=2.27->gTTS) (2.0.12)\n",
            "Requirement already satisfied: urllib3<1.27,>=1.21.1 in /usr/local/lib/python3.9/dist-packages (from requests<3,>=2.27->gTTS) (1.26.15)\n",
            "Requirement already satisfied: certifi>=2017.4.17 in /usr/local/lib/python3.9/dist-packages (from requests<3,>=2.27->gTTS) (2022.12.7)\n",
            "Requirement already satisfied: idna<4,>=2.5 in /usr/local/lib/python3.9/dist-packages (from requests<3,>=2.27->gTTS) (3.4)\n",
            "Installing collected packages: gTTS\n",
            "Successfully installed gTTS-2.3.1\n"
          ]
        }
      ],
      "source": [
        "pip install gTTS"
      ]
    },
    {
      "cell_type": "code",
      "source": [
        "from gtts import gTTS\n",
        "import os\n",
        "\n",
        "A = '七年啊却不见这一语道别\\\n",
        "这寺中也再无一朵冥花\\\n",
        "唯取这一点菩提我问我佛啊\\\n",
        "你为何渡我不渡她呢为何啊\\\n",
        "我前几世种下\\\n",
        "不断的是牵挂\\\n",
        "小僧回头了嘛\\\n",
        "诵经声变沙哑\\\n",
        "这寺下再无她\\\n",
        "菩提不渡她\\\n",
        "几卷经文难留\\\n",
        "这满院的冥花\\\n",
        "你离开这个家\\\n",
        "爱恨都无处洒\\\n",
        "还能回头了嘛\\\n",
        "看你微笑脸颊\\\n",
        "怎能脱下袈裟\\\n",
        "来还你一个家\\\n",
        "为何渡我不渡她\\\n",
        "我还是难改心决\\\n",
        "也不见一句道别\\\n",
        "现在寺外什么季节\\\n",
        "再无成双蝴蝶\\\n",
        "我早已皈依我佛\\\n",
        "断了尘世执着\\\n",
        "你种满寺冥花献佛\\\n",
        "也难改佛家普陀\\\n",
        "我不懂什么情缘\\\n",
        "只知有你很甜\\\n",
        "你已不在这个庄园\\\n",
        "懂了眼泪很咸\\\n",
        "晨钟不在朝暮\\\n",
        "它灵魂怎么超度\\\n",
        "我忘记尘世所走的路\\\n",
        "遗憾没能照顾\\\n",
        "我不再惜守陈规\\\n",
        "也再无冥花纷飞\\\n",
        "才体会了相思成堆\\\n",
        "已经无法再追\\\n",
        "你死在湖渡和边塞\\\n",
        "我怎能无睹情爱\\\n",
        "来世不再为僧\\\n",
        "盖头只为你戴\\\n",
        "这红盖头只为你戴\\\n",
        "这风儿还在刮\\\n",
        "乱了谁的年华\\\n",
        "她留起了长发\\\n",
        "收起木鱼吧\\\n",
        "菩提下再无她\\\n",
        "又度过几个夏\\\n",
        "眼睛还红嘛\\\n",
        "她已经不在啦\\\n",
        "晨钟再敲几下\\\n",
        "不渡世间繁花\\\n",
        "我也低头笑着\\\n",
        "再不见你长发\\\n",
        "笑问佛祖啊\\\n",
        "渡千百万人家\\\n",
        "为何渡我不渡她\\\n",
        "这风儿还在刮\\\n",
        "乱了谁的年华\\\n",
        "她留起了长发\\\n",
        "收起木鱼吧\\\n",
        "菩提下再无她\\\n",
        "又度过几个夏\\\n",
        "眼睛还红嘛\\\n",
        "她已经不在啦\\\n",
        "晨钟再敲几下\\\n",
        "不渡世间繁花\\\n",
        "我也低头笑着\\\n",
        "再不见你长发\\\n",
        "笑问佛祖啊\\\n",
        "渡千百万人家\\\n",
        "为何渡我不渡她\\\n",
        "这菩提下再无她\\\n",
        "这凡众一啊\\\n",
        "你还能听到吗\\\n",
        "你曾渡了千百万人家\\\n",
        "可 可 为什么渡我不渡她啊'\n",
        "\n",
        "speak = gTTS(text=A, lang='zh', slow=False)\n",
        "speak.save('Test.mp3')\n",
        "\n",
        "print('text: ', A)\n"
      ],
      "metadata": {
        "colab": {
          "base_uri": "https://localhost:8080/"
        },
        "id": "AZ7xxop1KG1r",
        "outputId": "15e85c2c-bad8-47e0-be14-962eaa7995b7"
      },
      "execution_count": 9,
      "outputs": [
        {
          "output_type": "stream",
          "name": "stdout",
          "text": [
            "text:  七年啊却不见这一语道别这寺中也再无一朵冥花唯取这一点菩提我问我佛啊你为何渡我不渡她呢为何啊我前几世种下不断的是牵挂小僧回头了嘛诵经声变沙哑这寺下再无她菩提不渡她几卷经文难留这满院的冥花你离开这个家爱恨都无处洒还能回头了嘛看你微笑脸颊怎能脱下袈裟来还你一个家为何渡我不渡她我还是难改心决也不见一句道别现在寺外什么季节再无成双蝴蝶我早已皈依我佛断了尘世执着你种满寺冥花献佛也难改佛家普陀我不懂什么情缘只知有你很甜你已不在这个庄园懂了眼泪很咸晨钟不在朝暮它灵魂怎么超度我忘记尘世所走的路遗憾没能照顾我不再惜守陈规也再无冥花纷飞才体会了相思成堆已经无法再追你死在湖渡和边塞我怎能无睹情爱来世不再为僧盖头只为你戴这红盖头只为你戴这风儿还在刮乱了谁的年华她留起了长发收起木鱼吧菩提下再无她又度过几个夏眼睛还红嘛她已经不在啦晨钟再敲几下不渡世间繁花我也低头笑着再不见你长发笑问佛祖啊渡千百万人家为何渡我不渡她这风儿还在刮乱了谁的年华她留起了长发收起木鱼吧菩提下再无她又度过几个夏眼睛还红嘛她已经不在啦晨钟再敲几下不渡世间繁花我也低头笑着再不见你长发笑问佛祖啊渡千百万人家为何渡我不渡她这菩提下再无她这凡众一啊你还能听到吗你曾渡了千百万人家可 可 为什么渡我不渡她啊\n"
          ]
        }
      ]
    },
    {
      "cell_type": "code",
      "source": [
        "from gtts import gTTS\n",
        "import os\n",
        "\n",
        "A = 'さくら さくら\\\n",
        "さくら さくら\\\n",
        "やよいの空は\\\n",
        "見わたす限り\\\n",
        "かすみか雲か\\\n",
        "匂いぞ出ずる\\\n",
        "いざや いざや\\\n",
        "見にゆかん\\\n",
        "さくら さくら\\\n",
        "野山も里も\\\n",
        "見わたす限り\\\n",
        "かすみか雲か\\\n",
        "朝日ににおう\\\n",
        "さくら さくら\\\n",
        "花ざかり'\n",
        "speak = gTTS(text=A, lang='zh', slow=False)\n",
        "speak.save('Test_Japan.mp3')\n",
        "\n",
        "print('text: ', A)"
      ],
      "metadata": {
        "colab": {
          "base_uri": "https://localhost:8080/"
        },
        "id": "8woLIp8tLR4q",
        "outputId": "c792693f-daf7-483e-a746-a0094b853b50"
      },
      "execution_count": 10,
      "outputs": [
        {
          "output_type": "stream",
          "name": "stdout",
          "text": [
            "text:  さくら さくらさくら さくらやよいの空は見わたす限りかすみか雲か匂いぞ出ずるいざや いざや見にゆかんさくら さくら野山も里も見わたす限りかすみか雲か朝日ににおうさくら さくら花ざかり\n"
          ]
        }
      ]
    },
    {
      "cell_type": "code",
      "source": [
        "from gtts import gTTS\n",
        "import os\n",
        "\n",
        "A = 'さくら さくら\\\n",
        "さくら さくら\\\n",
        "やよいの空は\\\n",
        "見わたす限り\\\n",
        "かすみか雲か\\\n",
        "匂いぞ出ずる\\\n",
        "いざや いざや\\\n",
        "見にゆかん\\\n",
        "さくら さくら\\\n",
        "野山も里も\\\n",
        "見わたす限り\\\n",
        "かすみか雲か\\\n",
        "朝日ににおう\\\n",
        "さくら さくら\\\n",
        "花ざかり'\n",
        "speak = gTTS(text=A, lang='zh', slow=False)\n",
        "speak.save('Test_Japan.mp3')\n",
        "\n",
        "print('text: ', A)"
      ],
      "metadata": {
        "id": "XdMZe5lyP6kS"
      },
      "execution_count": null,
      "outputs": []
    }
  ]
}