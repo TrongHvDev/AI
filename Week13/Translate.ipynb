{
  "nbformat": 4,
  "nbformat_minor": 0,
  "metadata": {
    "colab": {
      "provenance": [],
      "mount_file_id": "1x8-jFC9D-ixglfqtaq6i7229Y0fy_9FA",
      "authorship_tag": "ABX9TyPgLIfbgYU2ipNNQsv96N4i",
      "include_colab_link": true
    },
    "kernelspec": {
      "name": "python3",
      "display_name": "Python 3"
    },
    "language_info": {
      "name": "python"
    }
  },
  "cells": [
    {
      "cell_type": "markdown",
      "metadata": {
        "id": "view-in-github",
        "colab_type": "text"
      },
      "source": [
        "<a href=\"https://colab.research.google.com/github/TrongHvDev/AI/blob/main/Week13/Translate.ipynb\" target=\"_parent\"><img src=\"https://colab.research.google.com/assets/colab-badge.svg\" alt=\"Open In Colab\"/></a>"
      ]
    },
    {
      "cell_type": "code",
      "execution_count": 3,
      "metadata": {
        "colab": {
          "base_uri": "https://localhost:8080/"
        },
        "id": "6G2L5-rDRfPs",
        "outputId": "4e4e50da-39cf-462f-89eb-e328a0f7a15f"
      },
      "outputs": [
        {
          "output_type": "stream",
          "name": "stdout",
          "text": [
            "Looking in indexes: https://pypi.org/simple, https://us-python.pkg.dev/colab-wheels/public/simple/\n",
            "Collecting googletrans==3.1.0a0\n",
            "  Downloading googletrans-3.1.0a0.tar.gz (19 kB)\n",
            "  Preparing metadata (setup.py) ... \u001b[?25l\u001b[?25hdone\n",
            "Collecting httpx==0.13.3\n",
            "  Downloading httpx-0.13.3-py3-none-any.whl (55 kB)\n",
            "\u001b[2K     \u001b[90m━━━━━━━━━━━━━━━━━━━━━━━━━━━━━━━━━━━━━━━━\u001b[0m \u001b[32m55.1/55.1 kB\u001b[0m \u001b[31m7.1 MB/s\u001b[0m eta \u001b[36m0:00:00\u001b[0m\n",
            "\u001b[?25hCollecting rfc3986<2,>=1.3\n",
            "  Downloading rfc3986-1.5.0-py2.py3-none-any.whl (31 kB)\n",
            "Collecting httpcore==0.9.*\n",
            "  Downloading httpcore-0.9.1-py3-none-any.whl (42 kB)\n",
            "\u001b[2K     \u001b[90m━━━━━━━━━━━━━━━━━━━━━━━━━━━━━━━━━━━━━━━━\u001b[0m \u001b[32m42.6/42.6 kB\u001b[0m \u001b[31m5.9 MB/s\u001b[0m eta \u001b[36m0:00:00\u001b[0m\n",
            "\u001b[?25hRequirement already satisfied: sniffio in /usr/local/lib/python3.9/dist-packages (from httpx==0.13.3->googletrans==3.1.0a0) (1.3.0)\n",
            "Collecting hstspreload\n",
            "  Downloading hstspreload-2023.1.1-py3-none-any.whl (1.5 MB)\n",
            "\u001b[2K     \u001b[90m━━━━━━━━━━━━━━━━━━━━━━━━━━━━━━━━━━━━━━━━\u001b[0m \u001b[32m1.5/1.5 MB\u001b[0m \u001b[31m53.1 MB/s\u001b[0m eta \u001b[36m0:00:00\u001b[0m\n",
            "\u001b[?25hCollecting idna==2.*\n",
            "  Downloading idna-2.10-py2.py3-none-any.whl (58 kB)\n",
            "\u001b[2K     \u001b[90m━━━━━━━━━━━━━━━━━━━━━━━━━━━━━━━━━━━━━━━━\u001b[0m \u001b[32m58.8/58.8 kB\u001b[0m \u001b[31m7.2 MB/s\u001b[0m eta \u001b[36m0:00:00\u001b[0m\n",
            "\u001b[?25hCollecting chardet==3.*\n",
            "  Downloading chardet-3.0.4-py2.py3-none-any.whl (133 kB)\n",
            "\u001b[2K     \u001b[90m━━━━━━━━━━━━━━━━━━━━━━━━━━━━━━━━━━━━━━\u001b[0m \u001b[32m133.4/133.4 kB\u001b[0m \u001b[31m17.7 MB/s\u001b[0m eta \u001b[36m0:00:00\u001b[0m\n",
            "\u001b[?25hRequirement already satisfied: certifi in /usr/local/lib/python3.9/dist-packages (from httpx==0.13.3->googletrans==3.1.0a0) (2022.12.7)\n",
            "Collecting h2==3.*\n",
            "  Downloading h2-3.2.0-py2.py3-none-any.whl (65 kB)\n",
            "\u001b[2K     \u001b[90m━━━━━━━━━━━━━━━━━━━━━━━━━━━━━━━━━━━━━━━━\u001b[0m \u001b[32m65.0/65.0 kB\u001b[0m \u001b[31m9.5 MB/s\u001b[0m eta \u001b[36m0:00:00\u001b[0m\n",
            "\u001b[?25hCollecting h11<0.10,>=0.8\n",
            "  Downloading h11-0.9.0-py2.py3-none-any.whl (53 kB)\n",
            "\u001b[2K     \u001b[90m━━━━━━━━━━━━━━━━━━━━━━━━━━━━━━━━━━━━━━━━\u001b[0m \u001b[32m53.6/53.6 kB\u001b[0m \u001b[31m6.2 MB/s\u001b[0m eta \u001b[36m0:00:00\u001b[0m\n",
            "\u001b[?25hCollecting hyperframe<6,>=5.2.0\n",
            "  Downloading hyperframe-5.2.0-py2.py3-none-any.whl (12 kB)\n",
            "Collecting hpack<4,>=3.0\n",
            "  Downloading hpack-3.0.0-py2.py3-none-any.whl (38 kB)\n",
            "Building wheels for collected packages: googletrans\n",
            "  Building wheel for googletrans (setup.py) ... \u001b[?25l\u001b[?25hdone\n",
            "  Created wheel for googletrans: filename=googletrans-3.1.0a0-py3-none-any.whl size=16368 sha256=5468dc96edc5a30a13e7f479a1e09979664e49307734848924a661c07448965a\n",
            "  Stored in directory: /root/.cache/pip/wheels/ae/e1/6c/5137bc3f35aa130deea71575e165cc4f4f0680a88f3d90a636\n",
            "Successfully built googletrans\n",
            "Installing collected packages: rfc3986, hyperframe, hpack, h11, chardet, idna, hstspreload, h2, httpcore, httpx, googletrans\n",
            "  Attempting uninstall: chardet\n",
            "    Found existing installation: chardet 4.0.0\n",
            "    Uninstalling chardet-4.0.0:\n",
            "      Successfully uninstalled chardet-4.0.0\n",
            "  Attempting uninstall: idna\n",
            "    Found existing installation: idna 3.4\n",
            "    Uninstalling idna-3.4:\n",
            "      Successfully uninstalled idna-3.4\n",
            "Successfully installed chardet-3.0.4 googletrans-3.1.0a0 h11-0.9.0 h2-3.2.0 hpack-3.0.0 hstspreload-2023.1.1 httpcore-0.9.1 httpx-0.13.3 hyperframe-5.2.0 idna-2.10 rfc3986-1.5.0\n"
          ]
        }
      ],
      "source": [
        "pip install googletrans==3.1.0a0"
      ]
    },
    {
      "cell_type": "code",
      "source": [
        "from googletrans import Translator\n",
        "translator = Translator()\n",
        "Text = 'Hồng trần trên đôi cánh tay\\\n",
        "      Họa đời em trong phút giây\\\n",
        "      Từ ngày thơ ấy còn ngủ mơ đến khi em thờ ơ (Hờ, hờ)\\\n",
        "      Lòng người anh đâu có hay\\\n",
        "      Một ngày khi vỗ cánh bay\\\n",
        "      Từ người yêu hóa thành người dưng đến khi ta tự xưng à (Hà, hà)\\\n",
        "      Thương em bờ vai nhỏ nhoi\\\n",
        "      Đôi mắt hóa mây đêm\\\n",
        "      Thương sao mùi dạ lý hương\\\n",
        "      Vương vấn mãi bên thềm\\\n",
        "      Đời phiêu du cố tìm một người thật lòng\\\n",
        "      Dẫu trời mênh mông anh nhớ em (Anh nhớ em!)\\\n",
        "      Chim kia về vẫn có đôi\\\n",
        "      Sao chẳng số phu thê?\\\n",
        "      Em ơi đừng xa cách tôi\\\n",
        "      Trăng cố níu em về\\\n",
        "      Bình yên trên mái nhà\\\n",
        "      Nhìn đời ngược dòng\\\n",
        "      Em còn bên anh có phải không? (Có phải không?)\\\n",
        "      Trời ban ánh sáng, năm tháng tư bề\\\n",
        "      Dáng ai về chung lối\\\n",
        "      Người mang tia nắng nhưng cớ sao còn tăm tối?\\\n",
        "      Một mai em lỡ vấp ngã trên đời thay đổi\\\n",
        "      Nhìn về anh người chẳng khiến em lẻ loi\\\n",
        "      Hỡi ah, hỡi ah, hỡi ah, a-ah (Ah, ah)\\\n",
        "      Cùng chạy lòng chẳng nói ra, nói ra nhưng mà (Suýt nữa biệt ly)\\\n",
        "      Hỡi ah, hỡi ah, hỡi ah, a-ah (Yah, yah)\\\n",
        "      Cùng chạy lời lại xót xa, xót xa, a-ah (Uây, uây)\\\n",
        "      Ah! Nếu em có về\\\n",
        "      Anh sẽ mang hết những suy tư\\\n",
        "      Mang hết hành trang những ngày sống khổ để cho gió biển di cư\\\n",
        "      Anh thà lênh đênh không có ngày về hoá kiếp thân trai như Thủy Hử\\\n",
        "      Chẳng đành để em từ một cô bé sóng gió vây quanh thành quỷ dữ\\\n",
        "      Ta tự đẩy mình hay tự ta trói bây giờ có khác gì đâu\\\n",
        "      Ta chả bận lòng hay chẳng thể nói tụi mình có khác gì nhau?\\\n",
        "      Yêu sao cánh điệp phủ mờ nét bút dẫu người chẳng hẹn đến về sau\\\n",
        "      Phố thị đèn màu ta chỉ cần chung lối để rồi sống chết cũng vì nhau\\\n",
        "      Nhặt một nhành hoa rơi\\\n",
        "      Đoạn đường về nhà thật buồn em ơi\\\n",
        "      Dòng người vội vàng giờ này\\\n",
        "      Tình ơi, tình ơi, tình ơi em ở đâu rồi?\\\n",
        "      Lặng nhìn bờ vai xưa\\\n",
        "      Tựa đầu mình hỏi rằng khổ chưa\\\n",
        "      Đành lòng chặn đường giờ\\\n",
        "      Đừng đi, đừng đi, đừng đi vì câu hứa\\\n",
        "      (Đừng đi, đừng đi, đừng đi vì câu hứa)\\\n",
        "      Trời ban ánh sáng năm tháng tư bề\\\n",
        "      Dáng ai về chung lối\\\n",
        "      Người mang tia nắng nhưng cớ sao còn tăm tối\\\n",
        "      Một mai em lỡ vấp ngã trên đời thay đổi\\\n",
        "      Nhìn về anh người chẳng khiến em lẻ loi\\\n",
        "      Ngày buồn giờ áo ai khâu vá quàng rồi\\\n",
        "      Lặng nhìn dòng nước con sông phút bồi hồi\\\n",
        "      Một lần này hỡi em ơi ở lại đi\\\n",
        "      Vạn trùng cơn đau\\\n",
        "      Ngoài kia chỉ là bão tố\\\n",
        "      Trời ban ánh sáng năm tháng tư bề\\\n",
        "      Dáng ai về chung lối (Chung lối)\\\n",
        "      Người mang tia nắng nhưng cớ sao còn tăm tối\\\n",
        "      Một mai em lỡ vấp ngã trên đời thay đổi\\\n",
        "      Nhìn về anh người chẳng khiến em lẻ loi\\\n",
        "      Người thì vẫn ở đây\\\n",
        "      Người thì cách vạn dậm ngàn mây\\\n",
        "      Không say không về\\\n",
        "      Rượu nào mà chả đắng\\\n",
        "      Đoạn đường dài giờ này quạnh vắng\\\n",
        "      Ai buông câu thề?\\\n",
        "      Chỉ còn lại nỗi nhớ\\\n",
        "      Ngày nào chuyện tình mình vụn vỡ\\\n",
        "      Tơ duyên lỡ làng\\\n",
        "      Lùi lại về đằng xa\\\n",
        "      Cuộc đời mình chẳng bằng người ta\\\n",
        "      Tiếng lòng thở than'\n",
        "translation = translator.translate(Text, dest = 'en')\n",
        "print(translation.text)"
      ],
      "metadata": {
        "colab": {
          "base_uri": "https://localhost:8080/"
        },
        "id": "hzjqdmB1RlyC",
        "outputId": "c97a6a38-e491-4099-a03f-d433ddff596e"
      },
      "execution_count": 9,
      "outputs": [
        {
          "output_type": "stream",
          "name": "stdout",
          "text": [
            "Rose in my arms Painting my life in seconds From that day when I was still dreaming until I was indifferent (Hard, apathetic) My heart is not good One day when flapping wings From lover to stranger I call myself ah (Ha, ha) I love you, my small shoulders, my eyes turn to clouds in the night. Loving the stars, the scent of lychee, the scent of Vuong forever on the threshold. My adventurer life tries to find a true person Even though the sky is immense, I miss you (I miss you) I) The other bird still has a pair. Why not a wife? Baby don't stay away from me The moon tries to hold you back Peace on the roof Look at life against the current Are you still with me? (Isn't it?) God gives light, April and April Who's face is on the same path. He brings sunshine, but why is it still dark? One day I will stumble and change in my life Looking at you who won't make me lonely Oh ah, oh ah, oh ah, ah, a-ah (Ah, ah) Let's run without saying it, say it but (Almost) goodbye) Oh ah, oh ah, oh ah, a-ah (Yah, yah) Let's run together, sorry, a-ah (Whoa, whoa) Ah! If you come back, I'll bring all my thoughts, Carry all my baggage, and let the sea breezes migrate. I'd rather be adrift without having a day of reincarnation as a boy like Thuy Hu. I can't bear to let you go from a turbulent little girl. surrounding the demon city I push myself or I tie myself now it makes no difference I don't care or can't say we are different? Love why the wings are covered with pen strokes even though people don't make an appointment to come later The city of colored lights, we just need to share the path and then live and die for each other Pick up a fallen flower The way home is so sad, my dear, The rush of people right now My love, my love, my love, where are you? Quietly looking at the old shoulder Leaning on my head and asking if suffering is not yet willing to block the road now Don't go, don't go, don't go because of the promise (Don't go, don't go, don't go because of the promise) God gives light in April Appearance Who is on the same path He brings sunshine, but why is it still dark One day I stumble in the world and change Looking at you, you don't make me lonely Sad day and now who sews and sews clothes, Quietly looks at the river's water For once, my dear, stay, the pain is endless. It's just a storm outside. God gives light in April and May. Whose appearance is on the same path (Coming on the same path) Who brings sunshine but why is it still dark One day you If I stumble in life, change I look at you, you won't make me lonely, You'll still be here, You'll be thousands of miles away, You'll be thousands of miles away, You won't get drunk and won't come back. No wine will be bitter. This long road is lonely now Who has sworn an oath? Only nostalgia remains The day when our love story falls apart, the fate of the village, Back to the distance, My life is not as good as other people's voice of lamentation\n"
          ]
        }
      ]
    },
    {
      "cell_type": "code",
      "source": [],
      "metadata": {
        "id": "Pc9rSWk0Sk6f"
      },
      "execution_count": null,
      "outputs": []
    }
  ]
}