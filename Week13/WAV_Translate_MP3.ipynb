{
  "nbformat": 4,
  "nbformat_minor": 0,
  "metadata": {
    "colab": {
      "provenance": [],
      "authorship_tag": "ABX9TyPyrtL99CmCjSwPr3xl41Hl",
      "include_colab_link": true
    },
    "kernelspec": {
      "name": "python3",
      "display_name": "Python 3"
    },
    "language_info": {
      "name": "python"
    }
  },
  "cells": [
    {
      "cell_type": "markdown",
      "metadata": {
        "id": "view-in-github",
        "colab_type": "text"
      },
      "source": [
        "<a href=\"https://colab.research.google.com/github/TrongHvDev/AI/blob/main/Week13/WAV_Translate_MP3.ipynb\" target=\"_parent\"><img src=\"https://colab.research.google.com/assets/colab-badge.svg\" alt=\"Open In Colab\"/></a>"
      ]
    },
    {
      "cell_type": "code",
      "source": [
        "pip install SpeechRecognition"
      ],
      "metadata": {
        "id": "PhXgfwfyUU7f"
      },
      "execution_count": null,
      "outputs": []
    },
    {
      "cell_type": "code",
      "execution_count": 5,
      "metadata": {
        "colab": {
          "base_uri": "https://localhost:8080/"
        },
        "id": "q7zMYdYfUArK",
        "outputId": "0d434b92-6a70-4aee-fa20-1bb8b0915ffb"
      },
      "outputs": [
        {
          "output_type": "stream",
          "name": "stdout",
          "text": [
            "what if somebody decides to break it be careful that you keep adequate coverage but look for places to save money baby it's taking longer to get things squared away than the bankers expected during the wife for once company may win her tax hated retirement income as helpful as our cost on the two naked bone when the title of this type of song is in question there's no dying or waxing or gassing needed maybe personalized leather hard place work on a flat surface and smooth out the simplest kind of separate system uses a single self-contained unit the old shop at it still holds a good mechanic is usually a bad boss both figures would go higher in later years doll houses at set\n"
          ]
        }
      ],
      "source": [
        "#Speech to Text\n",
        "\n",
        "import speech_recognition as sr\n",
        "\n",
        "file = 'male.wav'\n",
        "r = sr.Recognizer()\n",
        "with sr.AudioFile(file) as source:\n",
        "    audio_data = r.record(source)\n",
        "    text = r.recognize_google(audio_data)\n",
        "    print(text)"
      ]
    },
    {
      "cell_type": "code",
      "source": [
        "pip install googletrans==3.1.0a0\n"
      ],
      "metadata": {
        "id": "KYkP7Xb7UmxE"
      },
      "execution_count": null,
      "outputs": []
    },
    {
      "cell_type": "code",
      "source": [
        "#Translate:\n",
        "from googletrans import Translator\n",
        "translator = Translator()\n",
        "translation = translator.translate(text, dest = 'vi')\n",
        "print(translation.text)"
      ],
      "metadata": {
        "colab": {
          "base_uri": "https://localhost:8080/"
        },
        "id": "5Bok0RbAUszt",
        "outputId": "c14cf73a-edff-49c7-b15e-112d4ff47fda"
      },
      "execution_count": 7,
      "outputs": [
        {
          "output_type": "stream",
          "name": "stdout",
          "text": [
            "Điều gì sẽ xảy ra nếu ai đó quyết định phá vỡ nó, hãy cẩn thận rằng bạn giữ bảo hiểm đầy đủ nhưng hãy tìm những nơi để tiết kiệm tiền, bạn sẽ mất nhiều thời gian hơn để thu xếp mọi thứ bình thường hơn những gì các chủ ngân hàng mong đợi ở người vợ vì một khi công ty có thể giành được khoản thu nhập hưu trí đáng ghét của cô ấy cũng hữu ích như chi phí của chúng tôi trên hai xương trần khi tiêu đề của loại bài hát này được đặt câu hỏi, không cần nhuộm hoặc tẩy lông hoặc tạo khí có thể da được cá nhân hóa làm việc trên một bề mặt phẳng và làm phẳng loại hệ thống riêng biệt đơn giản nhất sử dụng một bản thân duy nhất đơn vị chứa cửa hàng cũ ở đó vẫn giữ một thợ máy giỏi thường là một ông chủ tồi, cả hai con số sẽ tăng cao hơn trong những năm sau đó những ngôi nhà búp bê tại phim trường\n"
          ]
        }
      ]
    },
    {
      "cell_type": "code",
      "source": [
        "pip install gTTS"
      ],
      "metadata": {
        "id": "rV8WYKudU6BS"
      },
      "execution_count": null,
      "outputs": []
    },
    {
      "cell_type": "code",
      "source": [
        "# Text To Speech\n",
        "from gtts import gTTS\n",
        "import os\n",
        "speak = gTTS(text=translation.text, lang='vi', slow=False)\n",
        "speak.save('Translate.mp3')\n",
        "\n",
        "print('text: ', translation.text)"
      ],
      "metadata": {
        "colab": {
          "base_uri": "https://localhost:8080/"
        },
        "id": "bdDFOKSCVB4c",
        "outputId": "9ea5e88d-32a0-41b2-bfc5-9b1e265de351"
      },
      "execution_count": 13,
      "outputs": [
        {
          "output_type": "stream",
          "name": "stdout",
          "text": [
            "text:  Điều gì sẽ xảy ra nếu ai đó quyết định phá vỡ nó, hãy cẩn thận rằng bạn giữ bảo hiểm đầy đủ nhưng hãy tìm những nơi để tiết kiệm tiền, bạn sẽ mất nhiều thời gian hơn để thu xếp mọi thứ bình thường hơn những gì các chủ ngân hàng mong đợi ở người vợ vì một khi công ty có thể giành được khoản thu nhập hưu trí đáng ghét của cô ấy cũng hữu ích như chi phí của chúng tôi trên hai xương trần khi tiêu đề của loại bài hát này được đặt câu hỏi, không cần nhuộm hoặc tẩy lông hoặc tạo khí có thể da được cá nhân hóa làm việc trên một bề mặt phẳng và làm phẳng loại hệ thống riêng biệt đơn giản nhất sử dụng một bản thân duy nhất đơn vị chứa cửa hàng cũ ở đó vẫn giữ một thợ máy giỏi thường là một ông chủ tồi, cả hai con số sẽ tăng cao hơn trong những năm sau đó những ngôi nhà búp bê tại phim trường\n"
          ]
        }
      ]
    }
  ]
}