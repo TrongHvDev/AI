{
  "nbformat": 4,
  "nbformat_minor": 0,
  "metadata": {
    "colab": {
      "provenance": [],
      "mount_file_id": "1sO87hiwhhNqJVawmuMZQEGZgDbdaqVg3",
      "authorship_tag": "ABX9TyOSglUlcrX18007an54x90r",
      "include_colab_link": true
    },
    "kernelspec": {
      "name": "python3",
      "display_name": "Python 3"
    },
    "language_info": {
      "name": "python"
    },
    "accelerator": "GPU",
    "gpuClass": "standard"
  },
  "cells": [
    {
      "cell_type": "markdown",
      "metadata": {
        "id": "view-in-github",
        "colab_type": "text"
      },
      "source": [
        "<a href=\"https://colab.research.google.com/github/TrongHvDev/AI/blob/main/Week13/YoutubeSearch.ipynb\" target=\"_parent\"><img src=\"https://colab.research.google.com/assets/colab-badge.svg\" alt=\"Open In Colab\"/></a>"
      ]
    },
    {
      "cell_type": "code",
      "execution_count": 1,
      "metadata": {
        "colab": {
          "base_uri": "https://localhost:8080/"
        },
        "id": "Xqkpe7_52ADI",
        "outputId": "8bfab9c7-9d19-4b8c-cca4-b72edf69a121"
      },
      "outputs": [
        {
          "output_type": "stream",
          "name": "stdout",
          "text": [
            "Looking in indexes: https://pypi.org/simple, https://us-python.pkg.dev/colab-wheels/public/simple/\n",
            "Collecting youtube-search\n",
            "  Downloading youtube_search-2.1.2-py3-none-any.whl (3.4 kB)\n",
            "Requirement already satisfied: requests in /usr/local/lib/python3.9/dist-packages (from youtube-search) (2.27.1)\n",
            "Requirement already satisfied: idna<4,>=2.5 in /usr/local/lib/python3.9/dist-packages (from requests->youtube-search) (3.4)\n",
            "Requirement already satisfied: charset-normalizer~=2.0.0 in /usr/local/lib/python3.9/dist-packages (from requests->youtube-search) (2.0.12)\n",
            "Requirement already satisfied: certifi>=2017.4.17 in /usr/local/lib/python3.9/dist-packages (from requests->youtube-search) (2022.12.7)\n",
            "Requirement already satisfied: urllib3<1.27,>=1.21.1 in /usr/local/lib/python3.9/dist-packages (from requests->youtube-search) (1.26.15)\n",
            "Installing collected packages: youtube-search\n",
            "Successfully installed youtube-search-2.1.2\n"
          ]
        }
      ],
      "source": [
        "pip install youtube-search"
      ]
    },
    {
      "cell_type": "code",
      "source": [
        "from youtube_search import YoutubeSearch"
      ],
      "metadata": {
        "id": "TR84U6JM5Tst"
      },
      "execution_count": 2,
      "outputs": []
    },
    {
      "cell_type": "code",
      "source": [
        "import webbrowser\n",
        "from openpyxl import Workbook\n",
        "data = Workbook()\n",
        "sheet = data.active\n",
        "mysong = input('Xin mời bạn chọn tên bài hát: ')\n",
        "print(mysong)\n",
        "result = YoutubeSearch(mysong, max_results = 10).to_dict()\n",
        "print(result)"
      ],
      "metadata": {
        "colab": {
          "base_uri": "https://localhost:8080/"
        },
        "id": "lckb-G9H5lff",
        "outputId": "9440597c-96e3-4259-fc0f-f941b201010e"
      },
      "execution_count": 4,
      "outputs": [
        {
          "output_type": "stream",
          "name": "stdout",
          "text": [
            "Xin mời bạn chọn tên bài hát: Sóng gió\n",
            "Sóng gió\n",
            "[{'id': 'j8U06veqxdU', 'thumbnails': ['https://i.ytimg.com/vi/j8U06veqxdU/hqdefault.jpg?sqp=-oaymwEjCOADEI4CSFryq4qpAxUIARUAAAAAGAElAADIQj0AgKJDeAE=&rs=AOn4CLCQfdJv6uzPCuOCQJcaub8B-D9ibg'], 'title': 'SÓNG GIÓ | K-ICM x JACK | OFFICIAL MUSIC VIDEO', 'long_desc': None, 'channel': 'ICM Entertainment', 'duration': '5:51', 'views': '421,034,384 views', 'publish_time': '3 years ago', 'url_suffix': '/watch?v=j8U06veqxdU&pp=ygUKU8OzbmcgZ2nDsw%3D%3D'}, {'id': 'j4zP5saRZqg', 'thumbnails': ['https://i.ytimg.com/vi/j4zP5saRZqg/hq720.jpg?sqp=-oaymwEjCOgCEMoBSFryq4qpAxUIARUAAAAAGAElAADIQj0AgKJDeAE=&rs=AOn4CLDHiO5fmUpH9M_67fcgEtj6fmP44w', 'https://i.ytimg.com/vi/j4zP5saRZqg/hq720.jpg?sqp=-oaymwEXCNAFEJQDSFryq4qpAwkIARUAAIhCGAE=&rs=AOn4CLAWnIseBsZKLvWYviPfNH_ePyCipA'], 'title': 'SÓNG GIÓ | K-ICM x JACK | HƯƠNG LY COVER', 'long_desc': None, 'channel': 'Nguyễn Hương Ly Official', 'duration': '4:36', 'views': '93,656,638 views', 'publish_time': '3 years ago', 'url_suffix': '/watch?v=j4zP5saRZqg&pp=ygUKU8OzbmcgZ2nDsw%3D%3D'}, {'id': 'r6fVduW3cKs', 'thumbnails': ['https://i.ytimg.com/vi/r6fVduW3cKs/hq720.jpg?sqp=-oaymwEjCOgCEMoBSFryq4qpAxUIARUAAAAAGAElAADIQj0AgKJDeAE=&rs=AOn4CLBsKTjq5al1H6tffibIqwSG8_73gQ', 'https://i.ytimg.com/vi/r6fVduW3cKs/hq720.jpg?sqp=-oaymwEXCNAFEJQDSFryq4qpAwkIARUAAIhCGAE=&rs=AOn4CLDjxA98AhBerZQoiTFQ-vRmkgUdGg'], 'title': 'Sóng Gió | JACK K-ICM | Cực Ngầu tại Đám Cưới', 'long_desc': None, 'channel': 'Dũng Béo Official', 'duration': '4:18', 'views': '11,980,390 views', 'publish_time': '2 years ago', 'url_suffix': '/watch?v=r6fVduW3cKs&pp=ygUKU8OzbmcgZ2nDsw%3D%3D'}, {'id': 'veLU8xeHrsc', 'thumbnails': ['https://i.ytimg.com/vi/veLU8xeHrsc/hq720.jpg?sqp=-oaymwEjCOgCEMoBSFryq4qpAxUIARUAAAAAGAElAADIQj0AgKJDeAE=&rs=AOn4CLCd-K9mLnclBzkgdc_Xy8r_R0ltnA', 'https://i.ytimg.com/vi/veLU8xeHrsc/hq720.jpg?sqp=-oaymwEXCNAFEJQDSFryq4qpAwkIARUAAIhCGAE=&rs=AOn4CLBi5Y4fo8etgKBXaYUIXiJf8WFLeA'], 'title': 'PHIM NGẮN SÓNG GIÓ - HỒI KẾT | K-ICM & JACK | OFFICIAL SHORT FILM', 'long_desc': None, 'channel': 'ICM Entertainment', 'duration': '27:41', 'views': '44,289,635 views', 'publish_time': '3 years ago', 'url_suffix': '/watch?v=veLU8xeHrsc&pp=ygUKU8OzbmcgZ2nDsw%3D%3D'}, {'id': 'MAmXyLsBAKo', 'thumbnails': ['https://i.ytimg.com/vi/MAmXyLsBAKo/hqdefault.jpg?sqp=-oaymwEjCOADEI4CSFryq4qpAxUIARUAAAAAGAElAADIQj0AgKJDeAE=&rs=AOn4CLDi6_nselyLkWKvtfP_6IETOBqJ-g'], 'title': 'SÓNG GIÓ | K-ICM ft. JACK [Video Lyric ]', 'long_desc': None, 'channel': 'Caffesadchill ', 'duration': '5:37', 'views': '70,569 views', 'publish_time': '3 years ago', 'url_suffix': '/watch?v=MAmXyLsBAKo&pp=ygUKU8OzbmcgZ2nDsw%3D%3D'}, {'id': 'WX7dUj14Z00', 'thumbnails': ['https://i.ytimg.com/vi/WX7dUj14Z00/hq720.jpg?sqp=-oaymwEjCOgCEMoBSFryq4qpAxUIARUAAAAAGAElAADIQj0AgKJDeAE=&rs=AOn4CLC1nZdbVymPyenTZbrD6sooqogXhQ', 'https://i.ytimg.com/vi/WX7dUj14Z00/hq720.jpg?sqp=-oaymwEXCNAFEJQDSFryq4qpAwkIARUAAIhCGAE=&rs=AOn4CLDMdQER7bo_zPawKRzsc-izB37svA'], 'title': 'BẠC PHẬN | K-ICM ft. JACK | OFFICIAL MV', 'long_desc': None, 'channel': 'ICM Entertainment', 'duration': '4:17', 'views': '399,600,762 views', 'publish_time': '4 years ago', 'url_suffix': '/watch?v=WX7dUj14Z00&pp=ygUKU8OzbmcgZ2nDsw%3D%3D'}, {'id': 'VynEo6RP9gs', 'thumbnails': ['https://i.ytimg.com/vi/VynEo6RP9gs/hqdefault.jpg?sqp=-oaymwE9COADEI4CSFryq4qpAy8IARUAAAAAGAElAADIQj0AgKJDeAHwAQH4Af4EgALoAooCDAgAEAEYZSBTKFQwDw==&rs=AOn4CLA3JmYTOslC1MLSX-W7-GETJcyTPQ'], 'title': 'Tóp hồng nhan Bạc phận Song gio Tuong Quân Remix', 'long_desc': None, 'channel': 'Nghĩa Remix2020', 'duration': '45:30', 'views': '1,774,688 views', 'publish_time': '3 years ago', 'url_suffix': '/watch?v=VynEo6RP9gs&pp=ygUKU8OzbmcgZ2nDsw%3D%3D'}, {'id': 'GpTE-GSiyJA', 'thumbnails': ['https://i.ytimg.com/vi/GpTE-GSiyJA/hq720.jpg?sqp=-oaymwE9COgCEMoBSFryq4qpAy8IARUAAAAAGAElAADIQj0AgKJDeAHwAQH4Af4JgALQBYoCDAgAEAEYXyBlKE4wDw==&rs=AOn4CLBny7Ac1tBY4uB2_mhtEa44_L8Zqg', 'https://i.ytimg.com/vi/GpTE-GSiyJA/hq720.jpg?sqp=-oaymwExCNAFEJQDSFryq4qpAyMIARUAAIhCGAHwAQH4Af4JgALQBYoCDAgAEAEYXyBlKE4wDw==&rs=AOn4CLBrdnSvedUgeC4zPqdUl-sWhcOSiQ'], 'title': 'Sóng Gió「Lofi Ver.」- Jack | LOFI CHILL', 'long_desc': None, 'channel': 'NTT Music', 'duration': '4:34', 'views': '130,017 views', 'publish_time': '11 months ago', 'url_suffix': '/watch?v=GpTE-GSiyJA&pp=ygUKU8OzbmcgZ2nDsw%3D%3D'}, {'id': '8x2NjwwHUbQ', 'thumbnails': ['https://i.ytimg.com/vi/8x2NjwwHUbQ/hq720.jpg?sqp=-oaymwEjCOgCEMoBSFryq4qpAxUIARUAAAAAGAElAADIQj0AgKJDeAE=&rs=AOn4CLCP1vYDulxdv172wyAqGPj_VpfWew', 'https://i.ytimg.com/vi/8x2NjwwHUbQ/hq720.jpg?sqp=-oaymwEXCNAFEJQDSFryq4qpAwkIARUAAIhCGAE=&rs=AOn4CLCMr1FUhRQyjdKUvEpnI3A_r1NIdA'], 'title': 'JACK - HỒNG NHAN [OFFICIAL MV] | G5R', 'long_desc': None, 'channel': 'G5R SQUAD Official', 'duration': '3:16', 'views': '278,583,662 views', 'publish_time': '4 years ago', 'url_suffix': '/watch?v=8x2NjwwHUbQ&pp=ygUKU8OzbmcgZ2nDsw%3D%3D'}, {'id': '2-k2ziSu9b8', 'thumbnails': ['https://i.ytimg.com/vi/2-k2ziSu9b8/hq720.jpg?sqp=-oaymwE9COgCEMoBSFryq4qpAy8IARUAAAAAGAElAADIQj0AgKJDeAHwAQH4Af4JgALQBYoCDAgAEAEYWiBZKGUwDw==&rs=AOn4CLAaulEX4L4tZJs8ueFqWolFptuSow', 'https://i.ytimg.com/vi/2-k2ziSu9b8/hq720.jpg?sqp=-oaymwExCNAFEJQDSFryq4qpAyMIARUAAIhCGAHwAQH4Af4JgALQBYoCDAgAEAEYWiBZKGUwDw==&rs=AOn4CLBiKx3_OOF4j0qzqIhP3QQwfSnISw'], 'title': 'SÓNG GIÓ KARAOKE - JACK x K-ICM  [Official Video]', 'long_desc': None, 'channel': 'ICM Studio', 'duration': '4:14', 'views': '107,133,462 views', 'publish_time': '3 years ago', 'url_suffix': '/watch?v=2-k2ziSu9b8&pp=ygUKU8OzbmcgZ2nDsw%3D%3D'}]\n"
          ]
        }
      ]
    },
    {
      "cell_type": "code",
      "source": [
        "import webbrowser\n",
        "from openpyxl import Workbook\n",
        "data = Workbook()\n",
        "sheet = data.active\n",
        "mysong = input('Xin mời bạn chọn tên bài hát: ')\n",
        "print('\\n')\n",
        "for i in range(10):\n",
        "  result = YoutubeSearch(mysong, max_results = 10).to_dict()\n",
        "  result\n",
        "  print(result[i]['title'])\n",
        "  url = 'https://www.youtube.com' + result[i]['url_suffix']\n",
        "  print(url)\n",
        "  print('View: ',result[i]['views'])\n",
        "  print('Channel: ',result[i]['channel'])\n",
        "  print('Publish Time: ',result[i]['publish_time'])\n",
        "  print('Duration: ',result[i]['duration'] + '\\n')\n",
        "  sheet['A' + str(i+1)] = i + 1\n",
        "  sheet['B' + str(i+1)] = result[i]['title']\n",
        "  sheet['C' + str(i+1)] = result[i]['url_suffix']\n",
        "  sheet['D' + str(i+1)] = result[i]['views']\n",
        "  webbrowser.open(url)\n",
        "data.save('Test.xlsx')"
      ],
      "metadata": {
        "colab": {
          "base_uri": "https://localhost:8080/"
        },
        "id": "JzQF1NeU5ioc",
        "outputId": "e9d0cc16-5e72-4075-fb2d-381cc39932ad"
      },
      "execution_count": 31,
      "outputs": [
        {
          "output_type": "stream",
          "name": "stdout",
          "text": [
            "Xin mời bạn chọn tên bài hát: không thể say\n",
            "\n",
            "\n",
            "HIEUTHUHAI - Không Thể Say (prod. by Kewtiie) l Official Video\n",
            "https://www.youtube.com/watch?v=i0nd3NPJ4MI&list=RDi0nd3NPJ4MI&pp=ygUQa2jDtG5nIHRo4buDIHNheQ%3D%3D\n",
            "View:  2,540,117 views\n",
            "Channel:  HIEUTHUHAI\n",
            "Publish Time:  4 days ago\n",
            "Duration:  4:21\n",
            "\n",
            "Không Thể Say - HIEUTHUHAI | Lyrics Video\n",
            "https://www.youtube.com/watch?v=Av_0v3iiOFI&pp=ygUQa2jDtG5nIHRo4buDIHNheQ%3D%3D\n",
            "View:  2,827 views\n",
            "Channel:  Achilles Music\n",
            "Publish Time:  4 days ago\n",
            "Duration:  3:46\n",
            "\n",
            "HIEUTHUHAI - Không Thể Say - 1 HOUR (prod. by Kewtiie) l unOffical nonLyrics Video :DD\n",
            "https://www.youtube.com/watch?v=y0Y9Yyr3hAw&pp=ygUQa2jDtG5nIHRo4buDIHNheQ%3D%3D\n",
            "View:  1,355 views\n",
            "Channel:  icrushhailee\n",
            "Publish Time:  3 days ago\n",
            "Duration:  1:00:55\n",
            "\n",
            "EM SAY RỒI - THƯƠNG VÕ | OFFICIAL MUSIC VIDEO\n",
            "https://www.youtube.com/watch?v=h4k1OMjLrUQ&pp=ygUQa2jDtG5nIHRo4buDIHNheQ%3D%3D\n",
            "View:  31,816,599 views\n",
            "Channel:  THƯƠNG VÕ OFFICIAL\n",
            "Publish Time:  2 years ago\n",
            "Duration:  4:51\n",
            "\n",
            "Không Thể Say - HIEUTHUHAI (prod by. Kewtiie) (Speed up)\n",
            "https://www.youtube.com/watch?v=8KTZe4GF_TQ&pp=ygUQa2jDtG5nIHRo4buDIHNheQ%3D%3D\n",
            "View:  898 views\n",
            "Channel:  Fk33np\n",
            "Publish Time:  2 days ago\n",
            "Duration:  3:01\n",
            "\n",
            "HIEUTHUHAI - Không Thể Say l Official Teaser\n",
            "https://www.youtube.com/watch?v=b4pKxuFPcdk&pp=ygUQa2jDtG5nIHRo4buDIHNheQ%3D%3D\n",
            "View:  101,115 views\n",
            "Channel:  HIEUTHUHAI\n",
            "Publish Time:  7 days ago\n",
            "Duration:  0:29\n",
            "\n",
            "Không Thể Say lyric video - HIEUTHUHAI\n",
            "https://www.youtube.com/watch?v=eG1LxI_bPA4&pp=ygUQa2jDtG5nIHRo4buDIHNheQ%3D%3D\n",
            "View:  No views\n",
            "Channel:  2kênh\n",
            "Publish Time:  4 days ago\n",
            "Duration:  3:47\n",
            "\n",
            "Không Thể Say (HIEUTHUHAI Remix)\n",
            "https://www.youtube.com/watch?v=Ntj88_qg2U4&pp=ygUQa2jDtG5nIHRo4buDIHNheQ%3D%3D\n",
            "View:  589 views\n",
            "Channel:  Lik Shekie - Topic\n",
            "Publish Time:  0\n",
            "Duration:  4:25\n",
            "\n",
            "Không Thể Say🥂- Ju1y #16\n",
            "https://www.youtube.com/watch?v=pT5HkeVS4AA&pp=ygUQa2jDtG5nIHRo4buDIHNheQ%3D%3D\n",
            "View:  251 views\n",
            "Channel:  Ju1yy\n",
            "Publish Time:  4 days ago\n",
            "Duration:  4:12\n",
            "\n",
            "Không Thể Say - HIEUTHUHAI (prod by. Kewtiie) (Speed up)\n",
            "https://www.youtube.com/watch?v=8KTZe4GF_TQ&pp=ygUQa2jDtG5nIHRo4buDIHNheQ%3D%3D\n",
            "View:  898 views\n",
            "Channel:  Fk33np\n",
            "Publish Time:  2 days ago\n",
            "Duration:  3:01\n",
            "\n"
          ]
        }
      ]
    },
    {
      "cell_type": "code",
      "source": [],
      "metadata": {
        "id": "mj5nLH666SeY"
      },
      "execution_count": 20,
      "outputs": []
    }
  ]
}