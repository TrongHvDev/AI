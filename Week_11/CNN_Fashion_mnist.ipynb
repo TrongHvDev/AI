{
  "nbformat": 4,
  "nbformat_minor": 0,
  "metadata": {
    "colab": {
      "provenance": [],
      "mount_file_id": "19mIvHSBIoKL9kVekTop9fKmjLvrdnjHi",
      "authorship_tag": "ABX9TyM/6y73kSfGky4o9t4i/GC1",
      "include_colab_link": true
    },
    "kernelspec": {
      "name": "python3",
      "display_name": "Python 3"
    },
    "language_info": {
      "name": "python"
    }
  },
  "cells": [
    {
      "cell_type": "markdown",
      "metadata": {
        "id": "view-in-github",
        "colab_type": "text"
      },
      "source": [
        "<a href=\"https://colab.research.google.com/github/TrongHvDev/AI/blob/main/Week_11/CNN.ipynb\" target=\"_parent\"><img src=\"https://colab.research.google.com/assets/colab-badge.svg\" alt=\"Open In Colab\"/></a>"
      ]
    },
    {
      "cell_type": "code",
      "execution_count": 8,
      "metadata": {
        "id": "YyU1Z95xwf3z"
      },
      "outputs": [],
      "source": [
        "from keras.datasets import fashion_mnist\n",
        "import matplotlib.pyplot as plt"
      ]
    },
    {
      "cell_type": "code",
      "source": [
        "(train_X, train_Y),(test_X, test_Y) = fashion_mnist.load_data()"
      ],
      "metadata": {
        "id": "LG0qLaNg3ppG"
      },
      "execution_count": 65,
      "outputs": []
    },
    {
      "cell_type": "code",
      "source": [
        "train_X.shape"
      ],
      "metadata": {
        "colab": {
          "base_uri": "https://localhost:8080/"
        },
        "id": "-ka0LJcS30pi",
        "outputId": "3bf5e4ae-95bf-43d6-eead-f6ac918f9915"
      },
      "execution_count": 4,
      "outputs": [
        {
          "output_type": "execute_result",
          "data": {
            "text/plain": [
              "(60000, 28, 28)"
            ]
          },
          "metadata": {},
          "execution_count": 4
        }
      ]
    },
    {
      "cell_type": "code",
      "source": [
        "test_X.shape"
      ],
      "metadata": {
        "colab": {
          "base_uri": "https://localhost:8080/"
        },
        "id": "KXbRLp2Q34do",
        "outputId": "558eaff3-cfac-4462-80fe-0320230d4df2"
      },
      "execution_count": 5,
      "outputs": [
        {
          "output_type": "execute_result",
          "data": {
            "text/plain": [
              "(10000, 28, 28)"
            ]
          },
          "metadata": {},
          "execution_count": 5
        }
      ]
    },
    {
      "cell_type": "code",
      "source": [
        "plt.figure(figsize = [10, 10])\n",
        "plt.subplot(121)  # equivalent to: plt.subplot(1, 2, 1)\n",
        "plt.imshow(train_X[0], cmap = 'gray')\n",
        "plt.title('So:{}'.format(train_Y[0]))\n",
        "\n",
        "plt.subplot(122)\n",
        "plt.imshow(train_X[100], cmap = 'gray')\n",
        "plt.title('So:{}'.format(train_Y[100]))"
      ],
      "metadata": {
        "colab": {
          "base_uri": "https://localhost:8080/",
          "height": 452
        },
        "id": "NcO7dq7c3_7P",
        "outputId": "c0ffd669-9765-475b-d1db-80191a25e007"
      },
      "execution_count": 20,
      "outputs": [
        {
          "output_type": "execute_result",
          "data": {
            "text/plain": [
              "Text(0.5, 1.0, 'So:8')"
            ]
          },
          "metadata": {},
          "execution_count": 20
        },
        {
          "output_type": "display_data",
          "data": {
            "text/plain": [
              "<Figure size 1000x1000 with 2 Axes>"
            ],
            "image/png": "[encoded data removed]"
          },
          "metadata": {}
        }
      ]
    },
    {
      "cell_type": "code",
      "source": [
        "train_X = train_X.reshape(60000, 28, 28, 1)\n",
        "test_X = test_X.reshape(10000, 28, 28, 1)\n",
        "train_X.shape\n",
        "test_X.shape"
      ],
      "metadata": {
        "colab": {
          "base_uri": "https://localhost:8080/"
        },
        "id": "NFfxrklV5IF0",
        "outputId": "c3544547-3da2-4f6e-b1c0-98cbe53beeb0"
      },
      "execution_count": 66,
      "outputs": [
        {
          "output_type": "execute_result",
          "data": {
            "text/plain": [
              "(10000, 28, 28, 1)"
            ]
          },
          "metadata": {},
          "execution_count": 66
        }
      ]
    },
    {
      "cell_type": "code",
      "source": [
        "train_X = train_X.astype('float32') /255\n",
        "test_X = test_X.astype('float32') /255"
      ],
      "metadata": {
        "id": "rVLWGRI45vbA"
      },
      "execution_count": 67,
      "outputs": []
    },
    {
      "cell_type": "code",
      "source": [
        "from keras.utils import to_categorical\n",
        "train_Y = to_categorical(train_Y)\n",
        "test_Y = to_categorical(test_Y)"
      ],
      "metadata": {
        "id": "ItR0TOLp6b6L"
      },
      "execution_count": 68,
      "outputs": []
    },
    {
      "cell_type": "code",
      "source": [
        "from keras.models import Sequential\n",
        "from keras.layers import Dense, Dropout, Flatten, Conv2D, MaxPooling2D, Normalization, LeakyReLU\n",
        "from keras.optimizers import Adam\n",
        "from keras import losses\n",
        "batch_size = 64\n",
        "epochs = 20\n",
        "classes = 10\n",
        "loss = losses"
      ],
      "metadata": {
        "id": "5v9PiTAF7cA9"
      },
      "execution_count": 69,
      "outputs": []
    },
    {
      "cell_type": "code",
      "source": [
        "model = Sequential()\n",
        "model.add(Conv2D(32, kernel_size = (3, 3), activation = 'linear', input_shape = (28, 28, 1), padding = 'same'))\n",
        "model.add(LeakyReLU(alpha = 0.1))\n",
        "model.add(MaxPooling2D((2, 2), padding = 'same'))\n",
        "\n",
        "model.add(Conv2D(64, (3, 3), activation = 'linear', padding = 'same'))\n",
        "model.add(LeakyReLU(alpha = 0.1))\n",
        "model.add(MaxPooling2D((2,2), padding = 'same'))\n",
        "\n",
        "model.add(Conv2D(128, (3, 3), activation = 'linear', padding = 'same'))\n",
        "model.add(LeakyReLU(alpha = 0.1))\n",
        "model.add(MaxPooling2D((2,2), padding = 'same'))"
      ],
      "metadata": {
        "id": "f8s66xMW9H50"
      },
      "execution_count": 70,
      "outputs": []
    },
    {
      "cell_type": "code",
      "source": [
        "#bo ANN de phan loai\n",
        "model.add(Flatten())    #chuyen anh thanh vecto, dua qua mang ANN\n",
        "model.add(Dense(128, activation = 'linear'))\n",
        "model.add(LeakyReLU(alpha = 0.1))\n",
        "model.add(Dense(classes, activation = 'softmax')) #classes = 10"
      ],
      "metadata": {
        "id": "JNlrF-rk-OOW"
      },
      "execution_count": 71,
      "outputs": []
    },
    {
      "cell_type": "code",
      "source": [
        "from keras import optimizers\n",
        "model.compile(loss = loss.categorical_crossentropy, optimizer = \"adam\", metrics = ['accuracy'])\n",
        "model.summary()"
      ],
      "metadata": {
        "colab": {
          "base_uri": "https://localhost:8080/"
        },
        "id": "a91EDb5QBJvB",
        "outputId": "c9f270c9-87cb-4989-986d-e6f15bc26488"
      },
      "execution_count": 72,
      "outputs": [
        {
          "output_type": "stream",
          "name": "stdout",
          "text": [
            "Model: \"sequential_9\"\n",
            "_________________________________________________________________\n",
            " Layer (type)                Output Shape              Param #   \n",
            "=================================================================\n",
            " conv2d_17 (Conv2D)          (None, 28, 28, 32)        320       \n",
            "                                                                 \n",
            " leaky_re_lu_16 (LeakyReLU)  (None, 28, 28, 32)        0         \n",
            "                                                                 \n",
            " max_pooling2d_14 (MaxPoolin  (None, 14, 14, 32)       0         \n",
            " g2D)                                                            \n",
            "                                                                 \n",
            " conv2d_18 (Conv2D)          (None, 14, 14, 64)        18496     \n",
            "                                                                 \n",
            " leaky_re_lu_17 (LeakyReLU)  (None, 14, 14, 64)        0         \n",
            "                                                                 \n",
            " max_pooling2d_15 (MaxPoolin  (None, 7, 7, 64)         0         \n",
            " g2D)                                                            \n",
            "                                                                 \n",
            " conv2d_19 (Conv2D)          (None, 7, 7, 128)         73856     \n",
            "                                                                 \n",
            " leaky_re_lu_18 (LeakyReLU)  (None, 7, 7, 128)         0         \n",
            "                                                                 \n",
            " max_pooling2d_16 (MaxPoolin  (None, 4, 4, 128)        0         \n",
            " g2D)                                                            \n",
            "                                                                 \n",
            " flatten_2 (Flatten)         (None, 2048)              0         \n",
            "                                                                 \n",
            " dense_4 (Dense)             (None, 128)               262272    \n",
            "                                                                 \n",
            " leaky_re_lu_19 (LeakyReLU)  (None, 128)               0         \n",
            "                                                                 \n",
            " dense_5 (Dense)             (None, 10)                1290      \n",
            "                                                                 \n",
            "=================================================================\n",
            "Total params: 356,234\n",
            "Trainable params: 356,234\n",
            "Non-trainable params: 0\n",
            "_________________________________________________________________\n"
          ]
        }
      ]
    },
    {
      "cell_type": "code",
      "source": [
        "train = model.fit(train_X, train_Y, batch_size = batch_size, epochs = epochs, verbose = 1)"
      ],
      "metadata": {
        "colab": {
          "base_uri": "https://localhost:8080/"
        },
        "id": "C8794CtpB7x4",
        "outputId": "21273d82-483a-45f1-a0da-f03a8a7f3014"
      },
      "execution_count": 73,
      "outputs": [
        {
          "output_type": "stream",
          "name": "stdout",
          "text": [
            "Epoch 1/20\n",
            "938/938 [==============================] - 125s 132ms/step - loss: 0.4365 - accuracy: 0.8406\n",
            "Epoch 2/20\n",
            "938/938 [==============================] - 121s 128ms/step - loss: 0.2706 - accuracy: 0.9017\n",
            "Epoch 3/20\n",
            "938/938 [==============================] - 121s 129ms/step - loss: 0.2251 - accuracy: 0.9165\n",
            "Epoch 4/20\n",
            "938/938 [==============================] - 121s 129ms/step - loss: 0.1966 - accuracy: 0.9276\n",
            "Epoch 5/20\n",
            "938/938 [==============================] - 121s 129ms/step - loss: 0.1713 - accuracy: 0.9361\n",
            "Epoch 6/20\n",
            "938/938 [==============================] - 122s 130ms/step - loss: 0.1461 - accuracy: 0.9448\n",
            "Epoch 7/20\n",
            "938/938 [==============================] - 121s 129ms/step - loss: 0.1262 - accuracy: 0.9527\n",
            "Epoch 8/20\n",
            "938/938 [==============================] - 120s 128ms/step - loss: 0.1081 - accuracy: 0.9599\n",
            "Epoch 9/20\n",
            "938/938 [==============================] - 120s 128ms/step - loss: 0.0936 - accuracy: 0.9655\n",
            "Epoch 10/20\n",
            "938/938 [==============================] - 120s 128ms/step - loss: 0.0778 - accuracy: 0.9707\n",
            "Epoch 11/20\n",
            "938/938 [==============================] - 119s 127ms/step - loss: 0.0664 - accuracy: 0.9751\n",
            "Epoch 12/20\n",
            "938/938 [==============================] - 122s 130ms/step - loss: 0.0613 - accuracy: 0.9766\n",
            "Epoch 13/20\n",
            "938/938 [==============================] - 121s 129ms/step - loss: 0.0504 - accuracy: 0.9808\n",
            "Epoch 14/20\n",
            "938/938 [==============================] - 121s 129ms/step - loss: 0.0462 - accuracy: 0.9826\n",
            "Epoch 15/20\n",
            "938/938 [==============================] - 119s 127ms/step - loss: 0.0416 - accuracy: 0.9849\n",
            "Epoch 16/20\n",
            "938/938 [==============================] - 117s 125ms/step - loss: 0.0380 - accuracy: 0.9852\n",
            "Epoch 17/20\n",
            "938/938 [==============================] - 119s 126ms/step - loss: 0.0324 - accuracy: 0.9881\n",
            "Epoch 18/20\n",
            "938/938 [==============================] - 118s 126ms/step - loss: 0.0324 - accuracy: 0.9880\n",
            "Epoch 19/20\n",
            "938/938 [==============================] - 119s 126ms/step - loss: 0.0330 - accuracy: 0.9879\n",
            "Epoch 20/20\n",
            "938/938 [==============================] - 119s 127ms/step - loss: 0.0257 - accuracy: 0.9904\n"
          ]
        }
      ]
    },
    {
      "cell_type": "code",
      "source": [
        "model.save('/content/drive/MyDrive/AI/Backup_AI/fashion_mnist_cnn.h5')"
      ],
      "metadata": {
        "id": "xWyrl8CHNBHB"
      },
      "execution_count": 75,
      "outputs": []
    },
    {
      "cell_type": "code",
      "source": [
        "eval = model.evaluate(test_X, test_Y, verbose = 0)  #verbose = 0: khong hien thi train\n",
        "print('Test loss: ', eval[0])\n",
        "print('Test accuracy: ', eval[1])"
      ],
      "metadata": {
        "colab": {
          "base_uri": "https://localhost:8080/"
        },
        "id": "IXGpYME8NPwu",
        "outputId": "df6e2a75-8f51-4651-9b34-95d4c26cceb1"
      },
      "execution_count": 76,
      "outputs": [
        {
          "output_type": "stream",
          "name": "stdout",
          "text": [
            "Test loss:  0.43388262391090393\n",
            "Test accuracy:  0.9196000099182129\n"
          ]
        }
      ]
    },
    {
      "cell_type": "code",
      "source": [
        "accuracy = train.history['accuracy']\n",
        "loss = train.history['loss']\n",
        "epochs = range(len(accuracy))\n",
        "plt.plot(epochs, accuracy, 'bo', label = 'Training Accuracy')   # 'bo' la dau tron\n",
        "plt.plot(epochs, loss, 'b', label = 'Test Accuracy')\n",
        "plt.title('Training & Testing Accuracy')"
      ],
      "metadata": {
        "colab": {
          "base_uri": "https://localhost:8080/",
          "height": 469
        },
        "id": "tHjluRnPQBNr",
        "outputId": "8944ad04-2476-4606-e334-a49995fb48c9"
      },
      "execution_count": 78,
      "outputs": [
        {
          "output_type": "execute_result",
          "data": {
            "text/plain": [
              "Text(0.5, 1.0, 'Training & Testing Accuracy')"
            ]
          },
          "metadata": {},
          "execution_count": 78
        },
        {
          "output_type": "display_data",
          "data": {
            "text/plain": [
              "<Figure size 640x480 with 1 Axes>"
            ],
            "image/png": "[encoded data removed]"
          },
          "metadata": {}
        }
      ]
    },
    {
      "cell_type": "code",
      "source": [],
      "metadata": {
        "id": "wop2OURnQ8kX"
      },
      "execution_count": null,
      "outputs": []
    }
  ]
}
